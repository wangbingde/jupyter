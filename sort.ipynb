{
 "cells": [
  {
   "cell_type": "code",
   "execution_count": 1,
   "metadata": {},
   "outputs": [],
   "source": [
    "from __future__ import print_function\n",
    "\n",
    "from numba import jit\n",
    "import numpy as np\n",
    "from sklearn.utils.linear_assignment_ import linear_assignment\n",
    "from filterpy.kalman import KalmanFilter\n"
   ]
  },
  {
   "cell_type": "code",
   "execution_count": 4,
   "metadata": {},
   "outputs": [],
   "source": [
    "# 计算IOU\n",
    "def iou(bb_test,bb_gt):\n",
    "    \"\"\"\n",
    "    计算两个边界框(bounding box)的交并比(iou) ,输入格式[x1,y1,x2,y2]\n",
    "    \"\"\"\n",
    "    xx1 = np.maximum(bb_test[0],bb_gt[0])\n",
    "    yy1 = np.maximum(bb_test[1],bb_gt[1])\n",
    "    xx2 = np.minimum(bb_test[2],bb_gt[2])\n",
    "    yy2 = np.minimum(bb_test[3],bb_gt[3])\n",
    "    w = np.maximum(0.,xx2-xx1)\n",
    "    h = np.maximum(0.,yy2-yy1)\n",
    "    wh = w*h\n",
    "    o = wh / ((bb_test[2]-bb_test[0])*(bb_test[3]-bb_test[1])+(bb_gt[2]-bb_gt[0])*(bb_gt[3]-bb_gt[1])-wh)\n",
    "    return o"
   ]
  },
  {
   "cell_type": "code",
   "execution_count": 12,
   "metadata": {},
   "outputs": [],
   "source": [
    "# 转换边界框表示[x,y,s,r]\n",
    "def convert_bbox_to_z(bbox):\n",
    "    \"\"\"(x,y)为中心坐标，s为面积，r为宽高比\"\"\"\n",
    "    w = bbox[2] - bbox[0]\n",
    "    h = bbox[3] - bbox[1]\n",
    "    x = bbox[0] + w/2.\n",
    "    y = bbox[1] + h/2.\n",
    "    s = w * h\n",
    "    r = w/float(h)\n",
    "    return np.array([x,y,s,r]).reshape((4,1))"
   ]
  },
  {
   "cell_type": "code",
   "execution_count": 15,
   "metadata": {},
   "outputs": [],
   "source": [
    "# [x,y,s,r]=>[x1,y1,x2,y2]\n",
    "def convert_x_to_bbox(x,score=None):\n",
    "    w = np.sqrt(x[2]*x[3])\n",
    "    h = x[2]/w\n",
    "    if(score==None):\n",
    "        return np.array([x[0]-w/2.,x[1]-h/2.,x[0]+w/2.,x[1]+h/2.]).reshape((1,4))\n",
    "    else:\n",
    "        return np.array([x[0]-w/2.,x[1]-h/2.,x[0]+w/2.,x[1]+h/2.,score]).reshape((1,5))"
   ]
  },
  {
   "cell_type": "code",
   "execution_count": 51,
   "metadata": {},
   "outputs": [
    {
     "name": "stdout",
     "output_type": "stream",
     "text": [
      "[[2.]\n",
      " [3.]\n",
      " [4.]\n",
      " [1.]]\n",
      "[[1. 2. 3. 4.]]\n",
      "[[1. 2. 3. 4. 1.]]\n"
     ]
    }
   ],
   "source": [
    "x=[1,2,3,4]\n",
    "y=convert_bbox_to_z(x)\n",
    "print(y)\n",
    "z=convert_x_to_bbox(y)\n",
    "print(z)\n",
    "score = np.array([1.])\n",
    "z=convert_x_to_bbox(y,score)\n",
    "print(z)\n"
   ]
  },
  {
   "cell_type": "code",
   "execution_count": 29,
   "metadata": {},
   "outputs": [],
   "source": [
    "# 单跟踪对象状态估计类，表示为bbox边界框\n",
    "class KalmanBoxTracker(object):\n",
    "    count = 0\n",
    "    def __init__(self,bbox):\n",
    "        \"\"\"使用初始边界框初始化一个跟踪器\"\"\"\n",
    "        # 定义匀速模型\n",
    "        self.kf = KalmanFilter(dim_x=7,dim_z=4)\n",
    "        self.kf.F = np.array([[1,0,0,0,1,0,0],[0,1,0,0,0,1,0],[0,0,1,0,0,0,1],[0,0,0,1,0,0,0],  [0,0,0,0,1,0,0],[0,0,0,0,0,1,0],[0,0,0,0,0,0,1]])\n",
    "        self.kf.H = np.array([[1,0,0,0,0,0,0],[0,1,0,0,0,0,0],[0,0,1,0,0,0,0],[0,0,0,1,0,0,0]])\n",
    "        \n",
    "        self.kf.R[2:,2:] *=10.\n",
    "        self.kf.P[4:,4:] *=1000.  # 对不可观测的初始速度给一个高的不确定性\n",
    "        self.kf.P *=10.\n",
    "        self.kf.Q[-1,-1] *=0.01\n",
    "        self.kf.Q[4:,4:] *=0.01\n",
    "        \n",
    "        self.kf.x[:4] = convert_bbox_to_z(bbox)\n",
    "        self.time_since_update = 0\n",
    "        self.id = KalmanBoxTracker.count\n",
    "        KalmanBoxTracker.count += 1\n",
    "        self.history = []\n",
    "        self.hits = 0\n",
    "        self.hit_streak = 0\n",
    "        self.age = 0\n",
    "        \n",
    "    def update(self,bbox):\n",
    "        \"\"\"根据观测到的bbox更新状态向量\"\"\"\n",
    "        self.time_since_update = 0\n",
    "        self.history = []\n",
    "        self.hits += 1\n",
    "        self.hit_streak += 1\n",
    "        self.kf.update(convert_bbox_to_z(bbox))\n",
    "        \n",
    "    def predict(self):\n",
    "        \"\"\"前进状态向量,并返回预测的边界框估计\"\"\"\n",
    "        if((self.kf.x[6]+self.kf.x[2])<=0):\n",
    "            self.kf.x[6] *= 0.0\n",
    "        self.kf.predict()\n",
    "        self.age +=1\n",
    "        if(self.time_since_update>=0):\n",
    "            self.hit_streak = 0\n",
    "        self.time_since_update += 1\n",
    "        self.history.append(convert_x_to_bbox(self.kf.x))\n",
    "        return self.history[-1]\n",
    "    \n",
    "    def get_state(self):\n",
    "        \"\"\"返回当前的边界框估计\"\"\"\n",
    "        return convert_x_to_bbox(self.kf.x)\n",
    "    \n",
    "    "
   ]
  },
  {
   "cell_type": "code",
   "execution_count": 54,
   "metadata": {},
   "outputs": [],
   "source": [
    "def associate_detections_to_trackers(detections,trackers,iou_threshold = 0.3):\n",
    "    \"\"\"\n",
    "    将检测值分配到跟踪对象（表示为bbox）\n",
    "    返回3个列表：已匹配、未匹配检测值，未匹配跟踪器\n",
    "    \"\"\"\n",
    "    if(len(trackers)==0) or (len(detections)==0):\n",
    "        return np.empty((0,2),dtype=int),np.arange(len(detections)),np.empty((0,5),dtype=int)\n",
    "    iou_matriix = np.zeros((len(detections),len(trackers)),dtype=np.float32)\n",
    "    # 形成iou矩阵\n",
    "    for d,det in enumerate(detections):\n",
    "        for t,trk in enumerate(trackers):\n",
    "            iou_matriix[d,t] = iou(det,trk)\n",
    "    # 数据关联\n",
    "    matched_indices = linear_assignment(-iou_matriix)  # 匈牙利算法   返回n个 1*2数组 输出行列序号\n",
    "    \n",
    "    unmatched_detection = []\n",
    "    for d,det in enumerate(detections):\n",
    "        if(d not in matched_indices[:,0]):\n",
    "            unmatched_detection.append(d)\n",
    "    unmatched_trackers = []\n",
    "    for t,trk in enumerate(trackers):\n",
    "        if(t not in matched_indices[:,1]):\n",
    "            unmatched_trackers.append(t)\n",
    "            \n",
    "    # 去掉低iou的匹配项\n",
    "    matches = []\n",
    "    for m in matched_indices:\n",
    "        if(iou_matriix[m[0],m[1]]<iou_threshold):\n",
    "            unmatched_detection.append(m[0])\n",
    "            unmatched_trackers.append(m[1])\n",
    "        else:\n",
    "            matches.append(m.reshape(1,2))\n",
    "    if(len(matches)==0):\n",
    "        matches = np.empty((0,2),dtype=int)\n",
    "    else:\n",
    "        matches = np.concatenate(matches,axis=0)    # 数组拼接\n",
    "        \n",
    "    return matches,np.array(unmatched_detection),np.array(unmatched_trackers)\n",
    "    \n",
    "    "
   ]
  },
  {
   "cell_type": "code",
   "execution_count": null,
   "metadata": {},
   "outputs": [],
   "source": [
    "class Sort(object)；"
   ]
  },
  {
   "cell_type": "code",
   "execution_count": null,
   "metadata": {},
   "outputs": [],
   "source": []
  }
 ],
 "metadata": {
  "kernelspec": {
   "display_name": "Python 3",
   "language": "python",
   "name": "python3"
  },
  "language_info": {
   "codemirror_mode": {
    "name": "ipython",
    "version": 3
   },
   "file_extension": ".py",
   "mimetype": "text/x-python",
   "name": "python",
   "nbconvert_exporter": "python",
   "pygments_lexer": "ipython3",
   "version": "3.5.2"
  }
 },
 "nbformat": 4,
 "nbformat_minor": 2
}
