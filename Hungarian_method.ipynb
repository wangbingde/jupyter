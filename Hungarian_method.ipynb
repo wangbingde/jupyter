{
 "cells": [
  {
   "cell_type": "code",
   "execution_count": 1,
   "metadata": {},
   "outputs": [],
   "source": [
    "import itertools\n",
    "import numpy as np\n",
    "from numpy import random\n",
    "from scipy.optimize import linear_sum_assignment\n",
    "from sklearn.utils.linear_assignment_ import linear_assignment"
   ]
  },
  {
   "cell_type": "code",
   "execution_count": 2,
   "metadata": {},
   "outputs": [],
   "source": [
    "class TaskAssignment:\n",
    "    def __init__(self,task_matrix,mode):\n",
    "        self.task_matrix = task_matrix\n",
    "        self.mode = mode\n",
    "        if mode == 'all_permutation':\n",
    "            self.min_cost, self.best_solution = self.all_permutation(task_matrix)\n",
    "        if mode == 'Hungary':\n",
    "            self.min_cost, self.best_solution = self.Hungary(task_matrix)\n",
    "    \n",
    "    # 全排列方法\n",
    "    def all_permutation(self,task_matrix):\n",
    "        number_of_chioce = len(task_matrix)\n",
    "        solutions = []\n",
    "        values = []\n",
    "        for each_solution in itertools.permutations(range(number_of_chioce)):\n",
    "            each_solution = list(each_solution)\n",
    "            solution=[]\n",
    "            value= 0\n",
    "            for i in range(len(task_matrix)):\n",
    "                value += task_matrix[i][each_solution[i]]\n",
    "                solution.append(task_matrix[i][each_solution[i]])\n",
    "            values.append(value)\n",
    "            solutions.append(solution)\n",
    "        min_cost = np.min(values)\n",
    "        best_solution = solutions[values.index(min_cost)]\n",
    "                              \n",
    "        return min_cost,best_solution\n",
    "    \n",
    "    # 匈牙利方法\n",
    "    def Hungary(self,task_matrix):\n",
    "        b = task_matrix.copy()\n",
    "        # 行和列减0\n",
    "        for i in range(len(b)):\n",
    "            row_min = np.min(b[i])\n",
    "            for j in range(len(b[i])):\n",
    "                b[i][j] -= row_min\n",
    "        for i in range(len(b[0])):\n",
    "            col_min = np.min(b[:, i])\n",
    "            for j in range(len(b)):\n",
    "                b[j][i] -= col_min\n",
    "        line_count = 0\n",
    "        # 线数目小于矩阵长度时，进行循环\n",
    "        while (line_count < len(b)):\n",
    "            line_count = 0\n",
    "            row_zero_count = []\n",
    "            col_zero_count = []\n",
    "            for i in range(len(b)):\n",
    "                row_zero_count.append(np.sum(b[i] == 0))\n",
    "            for i in range(len(b[0])):\n",
    "                col_zero_count.append((np.sum(b[:, i] == 0)))\n",
    "            # 划线的顺序（分行或列）\n",
    "            line_order = []\n",
    "            row_or_col = []\n",
    "            for i in range(len(b[0]), 0, -1):\n",
    "                while (i in row_zero_count):\n",
    "                    line_order.append(row_zero_count.index(i))\n",
    "                    row_or_col.append(0)\n",
    "                    row_zero_count[row_zero_count.index(i)] = 0\n",
    "                while (i in col_zero_count):\n",
    "                    line_order.append(col_zero_count.index(i))\n",
    "                    row_or_col.append(1)\n",
    "                    col_zero_count[col_zero_count.index(i)] = 0\n",
    "            # 画线覆盖0，并得到行减最小值，列加最小值后的矩阵\n",
    "            delete_count_of_row = []\n",
    "            delete_count_of_rol = []\n",
    "            row_and_col = [i for i in range(len(b))]\n",
    "            for i in range(len(line_order)):\n",
    "                if row_or_col[i] == 0:\n",
    "                    delete_count_of_row.append(line_order[i])\n",
    "                else:\n",
    "                    delete_count_of_rol.append(line_order[i])\n",
    "                c = np.delete(b, delete_count_of_row, axis=0)\n",
    "                c = np.delete(c, delete_count_of_rol, axis=1)\n",
    "                line_count = len(delete_count_of_row) + len(delete_count_of_rol)\n",
    "                # 线数目等于矩阵长度时，跳出\n",
    "                if line_count == len(b):\n",
    "                    break\n",
    "                # 判断是否画线覆盖所有0，若覆盖，进行加减操作\n",
    "                if 0 not in c:\n",
    "                    row_sub = list(set(row_and_col) - set(delete_count_of_row))\n",
    "                    min_value = np.min(c)\n",
    "                    for i in row_sub:\n",
    "                        b[i] = b[i] - min_value\n",
    "                    for i in delete_count_of_rol:\n",
    "                        b[:, i] = b[:, i] + min_value\n",
    "                    break\n",
    "        row_ind, col_ind = linear_sum_assignment(b)\n",
    "        min_cost = task_matrix[row_ind, col_ind].sum()\n",
    "        best_solution = list(task_matrix[row_ind, col_ind])\n",
    "        return min_cost, best_solution"
   ]
  },
  {
   "cell_type": "code",
   "execution_count": 3,
   "metadata": {},
   "outputs": [
    {
     "name": "stdout",
     "output_type": "stream",
     "text": [
      "[[32 10 25]\n",
      " [44 70 88]\n",
      " [25  6 79]]\n",
      "全排列方法  最小花费：75 任务分配：[25, 44, 6]\n",
      "匈牙利方法  最小花费：75 任务分配：[25, 44, 6].\n"
     ]
    }
   ],
   "source": [
    "rd = random.RandomState(10000)\n",
    "task_matrix = random.randint(0,100,size=(3,3))\n",
    "print(task_matrix)\n",
    "task_per = TaskAssignment(task_matrix,'all_permutation')\n",
    "print(\"全排列方法  最小花费：{} 任务分配：{}\".format(task_per.min_cost,task_per.best_solution))\n",
    "task_hun = TaskAssignment(task_matrix,'Hungary')\n",
    "print(\"匈牙利方法  最小花费：{} 任务分配：{}.\".format(task_hun.min_cost,task_hun.best_solution))"
   ]
  },
  {
   "cell_type": "code",
   "execution_count": 4,
   "metadata": {},
   "outputs": [
    {
     "data": {
      "text/plain": [
       "range(5, 0, -1)"
      ]
     },
     "execution_count": 4,
     "metadata": {},
     "output_type": "execute_result"
    }
   ],
   "source": [
    "range(5,0,-1)"
   ]
  },
  {
   "cell_type": "code",
   "execution_count": 5,
   "metadata": {},
   "outputs": [
    {
     "name": "stdout",
     "output_type": "stream",
     "text": [
      "5\n",
      "4\n",
      "3\n",
      "2\n",
      "1\n"
     ]
    }
   ],
   "source": [
    "for i in range(5,0,-1):\n",
    "    print(i)"
   ]
  },
  {
   "cell_type": "code",
   "execution_count": 6,
   "metadata": {},
   "outputs": [
    {
     "name": "stdout",
     "output_type": "stream",
     "text": [
      "[[32 10 25]\n",
      " [44 70 88]\n",
      " [25  6 79]]\n"
     ]
    }
   ],
   "source": [
    "print(task_matrix)"
   ]
  },
  {
   "cell_type": "code",
   "execution_count": 7,
   "metadata": {},
   "outputs": [
    {
     "name": "stdout",
     "output_type": "stream",
     "text": [
      "[0 1 2] [2 0 1]\n"
     ]
    }
   ],
   "source": [
    "from scipy.optimize import linear_sum_assignment\n",
    "row_ind, col_ind = linear_sum_assignment(task_matrix)\n",
    "print(row_ind,col_ind)"
   ]
  },
  {
   "cell_type": "code",
   "execution_count": 8,
   "metadata": {},
   "outputs": [
    {
     "name": "stdout",
     "output_type": "stream",
     "text": [
      "[-1, -1, -1, -1, -1]\n"
     ]
    }
   ],
   "source": [
    "assignment = []\n",
    "for _ in range(5):\n",
    "    assignment.append(-1)\n",
    "print(assignment)"
   ]
  },
  {
   "cell_type": "code",
   "execution_count": 18,
   "metadata": {},
   "outputs": [
    {
     "name": "stdout",
     "output_type": "stream",
     "text": [
      "[[0 2]\n",
      " [1 0]\n",
      " [2 1]]\n",
      "<class 'numpy.ndarray'>\n",
      "[0 2 1 0 2 1]\n"
     ]
    }
   ],
   "source": [
    "a=linear_assignment(task_matrix)\n",
    "print(a)\n",
    "print(type(a))\n",
    "a = np.concatenate(a,axis=0)\n",
    "print(a)"
   ]
  },
  {
   "cell_type": "code",
   "execution_count": null,
   "metadata": {},
   "outputs": [],
   "source": []
  }
 ],
 "metadata": {
  "kernelspec": {
   "display_name": "Python 3",
   "language": "python",
   "name": "python3"
  },
  "language_info": {
   "codemirror_mode": {
    "name": "ipython",
    "version": 3
   },
   "file_extension": ".py",
   "mimetype": "text/x-python",
   "name": "python",
   "nbconvert_exporter": "python",
   "pygments_lexer": "ipython3",
   "version": "3.5.2"
  }
 },
 "nbformat": 4,
 "nbformat_minor": 2
}
